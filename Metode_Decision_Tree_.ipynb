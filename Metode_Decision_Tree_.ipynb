{
  "nbformat": 4,
  "nbformat_minor": 0,
  "metadata": {
    "colab": {
      "provenance": []
    },
    "kernelspec": {
      "name": "python3",
      "display_name": "Python 3"
    },
    "language_info": {
      "name": "python"
    }
  },
  "cells": [
    {
      "cell_type": "code",
      "execution_count": 2,
      "metadata": {
        "colab": {
          "base_uri": "https://localhost:8080/"
        },
        "id": "csuD5fQRtU6Y",
        "outputId": "9966666f-1815-4032-f15e-1049d868ed08"
      },
      "outputs": [
        {
          "output_type": "stream",
          "name": "stdout",
          "text": [
            "Logika AND Metode Desicion Tree\n",
            "4 4 =  [4]\n",
            "4 5 =  [4]\n",
            "5 4 =  [4]\n",
            "5 5 =  [5]\n",
            "5 6 =  [6]\n",
            "6 5 =  [6]\n",
            "6 6 =  [5]\n",
            "6 7 =  [7]\n",
            "7 6 =  [6]\n",
            "7 7 =  [7]\n"
          ]
        }
      ],
      "source": [
        "from sklearn import tree\n",
        "\n",
        "# Database: Gerbang logika AND\n",
        "# x = Data, Y = Target\n",
        "x = [[4, 4], [4, 5], [5, 4], [5, 5], [5, 6], [6, 5], [6, 6], [6, 7], [7, 6], [7, 7]]\n",
        "y = [4, 4, 4, 5, 6, 6, 5, 7, 6, 7]\n",
        "\n",
        "# Training and Classify\n",
        "clf = tree.DecisionTreeClassifier() \n",
        "clf = clf. fit(x, y) \n",
        "\n",
        "# Prediksi\n",
        "print (\"Logika AND Metode Desicion Tree\") \n",
        "print (\"4 4 = \", clf.predict([[4, 4]])) \n",
        "print (\"4 5 = \", clf.predict([[4, 5]])) \n",
        "print (\"5 4 = \", clf.predict([[5, 4]])) \n",
        "print (\"5 5 = \", clf.predict([[5, 5]]))\n",
        "print (\"5 6 = \", clf.predict([[5, 6]]))\n",
        "print (\"6 5 = \", clf.predict([[6, 5]]))\n",
        "print (\"6 6 = \", clf.predict([[6, 6]]))\n",
        "print (\"6 7 = \", clf.predict([[6, 7]]))\n",
        "print (\"7 6 = \", clf.predict([[7, 6]]))\n",
        "print (\"7 7 = \", clf.predict([[7, 7]]))\n"
      ]
    }
  ]
}